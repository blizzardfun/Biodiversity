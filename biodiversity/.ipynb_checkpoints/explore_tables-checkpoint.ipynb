{
 "cells": [
  {
   "cell_type": "code",
   "execution_count": 1,
   "metadata": {},
   "outputs": [],
   "source": [
    "%matplotlib inline\n",
    "from matplotlib import style\n",
    "style.use('fivethirtyeight')\n",
    "import matplotlib.pyplot as plt\n",
    "import numpy as np\n",
    "import pandas as pd\n",
    "from statistics import stdev\n",
    "import datetime as dt\n",
    "from sqlalchemy import and_, or_, not_"
   ]
  },
  {
   "cell_type": "code",
   "execution_count": 2,
   "metadata": {},
   "outputs": [],
   "source": [
    "# Python SQL toolkit and Object Relational Mapper\n",
    "import sqlalchemy\n",
    "from sqlalchemy.ext.automap import automap_base\n",
    "from sqlalchemy.orm import Session\n",
    "from sqlalchemy import create_engine, func,  inspect"
   ]
  },
  {
   "cell_type": "code",
   "execution_count": 7,
   "metadata": {},
   "outputs": [],
   "source": [
    "#connect to database\n",
    "engine = create_engine(\"sqlite:///db/bellybutton.sqlite\")"
   ]
  },
  {
   "cell_type": "code",
   "execution_count": 8,
   "metadata": {},
   "outputs": [],
   "source": [
    "# reflect an existing database into a new model\n",
    "Base = automap_base()\n",
    "# reflect the tables\n",
    "Base.prepare(engine, reflect=True)"
   ]
  },
  {
   "cell_type": "code",
   "execution_count": 9,
   "metadata": {},
   "outputs": [
    {
     "data": {
      "text/plain": [
       "['sample_metadata', 'samples']"
      ]
     },
     "execution_count": 9,
     "metadata": {},
     "output_type": "execute_result"
    }
   ],
   "source": [
    "# We can view all of the classes that automap found\n",
    "Base.classes.keys()"
   ]
  },
  {
   "cell_type": "code",
   "execution_count": 15,
   "metadata": {},
   "outputs": [],
   "source": [
    "# Save references to each table\n",
    "sample_metadata = Base.classes.sample_metadata\n",
    "samples = Base.classes.samples"
   ]
  },
  {
   "cell_type": "code",
   "execution_count": 16,
   "metadata": {},
   "outputs": [],
   "source": [
    "# Create our session (link) from Python to the DB\n",
    "session = Session(engine)"
   ]
  },
  {
   "cell_type": "code",
   "execution_count": 17,
   "metadata": {},
   "outputs": [
    {
     "data": {
      "text/plain": [
       "['sample_metadata', 'samples']"
      ]
     },
     "execution_count": 17,
     "metadata": {},
     "output_type": "execute_result"
    }
   ],
   "source": [
    "inspector = inspect(engine)    # Create the inspector and connect it to the engine\n",
    "inspector.get_table_names()   # Collect the names of tables within the database"
   ]
  },
  {
   "cell_type": "code",
   "execution_count": 18,
   "metadata": {},
   "outputs": [
    {
     "name": "stdout",
     "output_type": "stream",
     "text": [
      "sample INTEGER\n",
      "EVENT TEXT\n",
      "ETHNICITY TEXT\n",
      "GENDER TEXT\n",
      "AGE REAL\n",
      "WFREQ REAL\n",
      "BBTYPE TEXT\n",
      "LOCATION TEXT\n",
      "COUNTRY012 TEXT\n",
      "ZIP012 TEXT\n",
      "COUNTRY1319 TEXT\n",
      "ZIP1319 TEXT\n",
      "DOG TEXT\n",
      "CAT TEXT\n",
      "IMPSURFACE013 REAL\n",
      "NPP013 REAL\n",
      "MMAXTEMP013 REAL\n",
      "PFC013 REAL\n",
      "IMPSURFACE1319 TEXT\n",
      "NPP1319 REAL\n",
      "MMAXTEMP1319 REAL\n",
      "PFC1319 REAL\n"
     ]
    }
   ],
   "source": [
    "# Using the inspector to print the column names within the sqlite table and its types\n",
    "columns = inspector.get_columns('sample_metadata')\n",
    "for column in columns:\n",
    "    print(column[\"name\"], column[\"type\"])"
   ]
  },
  {
   "cell_type": "code",
   "execution_count": 19,
   "metadata": {},
   "outputs": [
    {
     "name": "stdout",
     "output_type": "stream",
     "text": [
      "otu_id INTEGER\n",
      "otu_label TEXT\n",
      "940 INTEGER\n",
      "941 INTEGER\n",
      "943 INTEGER\n",
      "944 INTEGER\n",
      "945 INTEGER\n",
      "946 INTEGER\n",
      "947 INTEGER\n",
      "948 INTEGER\n",
      "949 INTEGER\n",
      "950 INTEGER\n",
      "952 INTEGER\n",
      "953 INTEGER\n",
      "954 INTEGER\n",
      "955 INTEGER\n",
      "956 INTEGER\n",
      "958 INTEGER\n",
      "959 INTEGER\n",
      "960 INTEGER\n",
      "961 INTEGER\n",
      "962 INTEGER\n",
      "963 INTEGER\n",
      "964 INTEGER\n",
      "966 INTEGER\n",
      "967 INTEGER\n",
      "968 INTEGER\n",
      "969 INTEGER\n",
      "970 INTEGER\n",
      "971 INTEGER\n",
      "972 INTEGER\n",
      "973 INTEGER\n",
      "974 INTEGER\n",
      "975 INTEGER\n",
      "978 INTEGER\n",
      "1233 INTEGER\n",
      "1234 INTEGER\n",
      "1235 INTEGER\n",
      "1236 INTEGER\n",
      "1237 INTEGER\n",
      "1238 INTEGER\n",
      "1242 INTEGER\n",
      "1243 INTEGER\n",
      "1246 INTEGER\n",
      "1253 INTEGER\n",
      "1254 INTEGER\n",
      "1258 INTEGER\n",
      "1259 INTEGER\n",
      "1260 INTEGER\n",
      "1264 INTEGER\n",
      "1265 INTEGER\n",
      "1273 INTEGER\n",
      "1275 INTEGER\n",
      "1276 INTEGER\n",
      "1277 INTEGER\n",
      "1278 INTEGER\n",
      "1279 INTEGER\n",
      "1280 INTEGER\n",
      "1281 INTEGER\n",
      "1282 INTEGER\n",
      "1283 INTEGER\n",
      "1284 INTEGER\n",
      "1285 INTEGER\n",
      "1286 INTEGER\n",
      "1287 INTEGER\n",
      "1288 INTEGER\n",
      "1289 INTEGER\n",
      "1290 INTEGER\n",
      "1291 INTEGER\n",
      "1292 INTEGER\n",
      "1293 INTEGER\n",
      "1294 INTEGER\n",
      "1295 INTEGER\n",
      "1296 INTEGER\n",
      "1297 INTEGER\n",
      "1298 INTEGER\n",
      "1308 INTEGER\n",
      "1309 INTEGER\n",
      "1310 INTEGER\n",
      "1374 INTEGER\n",
      "1415 INTEGER\n",
      "1439 INTEGER\n",
      "1441 INTEGER\n",
      "1443 INTEGER\n",
      "1486 INTEGER\n",
      "1487 INTEGER\n",
      "1489 INTEGER\n",
      "1490 INTEGER\n",
      "1491 INTEGER\n",
      "1494 INTEGER\n",
      "1495 INTEGER\n",
      "1497 INTEGER\n",
      "1499 INTEGER\n",
      "1500 INTEGER\n",
      "1501 INTEGER\n",
      "1502 INTEGER\n",
      "1503 INTEGER\n",
      "1504 INTEGER\n",
      "1505 INTEGER\n",
      "1506 INTEGER\n",
      "1507 INTEGER\n",
      "1508 INTEGER\n",
      "1510 INTEGER\n",
      "1511 INTEGER\n",
      "1512 INTEGER\n",
      "1513 INTEGER\n",
      "1514 INTEGER\n",
      "1515 INTEGER\n",
      "1516 INTEGER\n",
      "1517 INTEGER\n",
      "1518 INTEGER\n",
      "1519 INTEGER\n",
      "1521 INTEGER\n",
      "1524 INTEGER\n",
      "1526 INTEGER\n",
      "1527 INTEGER\n",
      "1530 INTEGER\n",
      "1531 INTEGER\n",
      "1532 INTEGER\n",
      "1533 INTEGER\n",
      "1534 INTEGER\n",
      "1535 INTEGER\n",
      "1536 INTEGER\n",
      "1537 INTEGER\n",
      "1539 INTEGER\n",
      "1540 INTEGER\n",
      "1541 INTEGER\n",
      "1542 INTEGER\n",
      "1543 INTEGER\n",
      "1544 INTEGER\n",
      "1545 INTEGER\n",
      "1546 INTEGER\n",
      "1547 INTEGER\n",
      "1548 INTEGER\n",
      "1549 INTEGER\n",
      "1550 INTEGER\n",
      "1551 INTEGER\n",
      "1552 INTEGER\n",
      "1553 INTEGER\n",
      "1554 INTEGER\n",
      "1555 INTEGER\n",
      "1556 INTEGER\n",
      "1557 INTEGER\n",
      "1558 INTEGER\n",
      "1561 INTEGER\n",
      "1562 INTEGER\n",
      "1563 INTEGER\n",
      "1564 INTEGER\n",
      "1572 INTEGER\n",
      "1573 INTEGER\n",
      "1574 INTEGER\n",
      "1576 INTEGER\n",
      "1577 INTEGER\n",
      "1581 INTEGER\n",
      "1601 INTEGER\n"
     ]
    }
   ],
   "source": [
    "# Using the inspector to print the column names within the sqlite table and its types\n",
    "columns = inspector.get_columns('samples')\n",
    "for column in columns:\n",
    "    print(column[\"name\"], column[\"type\"])"
   ]
  },
  {
   "cell_type": "code",
   "execution_count": null,
   "metadata": {},
   "outputs": [],
   "source": []
  },
  {
   "cell_type": "code",
   "execution_count": 3,
   "metadata": {},
   "outputs": [],
   "source": [
    "#connect to database\n",
    "engine2 = create_engine(\"sqlite:///db/belly_button_biodiversity.sqlite\")"
   ]
  },
  {
   "cell_type": "code",
   "execution_count": 5,
   "metadata": {},
   "outputs": [],
   "source": [
    "# reflect an existing database into a new model\n",
    "Base2 = automap_base()\n",
    "# reflect the tables\n",
    "Base2.prepare(engine2, reflect=True)"
   ]
  },
  {
   "cell_type": "code",
   "execution_count": 6,
   "metadata": {},
   "outputs": [
    {
     "data": {
      "text/plain": [
       "['otu', 'samples', 'samples_metadata']"
      ]
     },
     "execution_count": 6,
     "metadata": {},
     "output_type": "execute_result"
    }
   ],
   "source": [
    "# We can view all of the classes that automap found\n",
    "Base2.classes.keys()"
   ]
  },
  {
   "cell_type": "code",
   "execution_count": 11,
   "metadata": {},
   "outputs": [
    {
     "data": {
      "text/plain": [
       "['otu', 'samples', 'samples_metadata']"
      ]
     },
     "execution_count": 11,
     "metadata": {},
     "output_type": "execute_result"
    }
   ],
   "source": [
    "# Create our session (link) from Python to the DB\n",
    "session2 = Session(engine2)\n",
    "inspector2 = inspect(engine2)    # Create the inspector and connect it to the engine\n",
    "inspector2.get_table_names()   # Collect the names of tables within the database"
   ]
  },
  {
   "cell_type": "code",
   "execution_count": 13,
   "metadata": {},
   "outputs": [
    {
     "name": "stdout",
     "output_type": "stream",
     "text": [
      "SAMPLEID INTEGER\n",
      "EVENT TEXT\n",
      "ETHNICITY TEXT\n",
      "GENDER TEXT\n",
      "AGE INTEGER\n",
      "WFREQ INTEGER\n",
      "BBTYPE TEXT\n",
      "LOCATION TEXT\n",
      "COUNTRY012 TEXT\n",
      "ZIP012 INTEGER\n",
      "COUNTRY1319 TEXT\n",
      "ZIP1319 INTEGER\n",
      "DOG TEXT\n",
      "CAT TEXT\n",
      "IMPSURFACE013 INTEGER\n",
      "NPP013 FLOAT\n",
      "MMAXTEMP013 FLOAT\n",
      "PFC013 FLOAT\n",
      "IMPSURFACE1319 INTEGER\n",
      "NPP1319 FLOAT\n",
      "MMAXTEMP1319 FLOAT\n",
      "PFC1319 FLOAT\n"
     ]
    }
   ],
   "source": [
    "# Using the inspector to print the column names within the sqlite table and its types\n",
    "columns2 = inspector2.get_columns('samples_metadata')\n",
    "for column in columns2:\n",
    "    print(column[\"name\"], column[\"type\"])"
   ]
  },
  {
   "cell_type": "code",
   "execution_count": 14,
   "metadata": {},
   "outputs": [
    {
     "name": "stdout",
     "output_type": "stream",
     "text": [
      "otu_id INTEGER\n",
      "BB_940 INTEGER\n",
      "BB_941 INTEGER\n",
      "BB_943 INTEGER\n",
      "BB_944 INTEGER\n",
      "BB_945 INTEGER\n",
      "BB_946 INTEGER\n",
      "BB_947 INTEGER\n",
      "BB_948 INTEGER\n",
      "BB_949 INTEGER\n",
      "BB_950 INTEGER\n",
      "BB_952 INTEGER\n",
      "BB_953 INTEGER\n",
      "BB_954 INTEGER\n",
      "BB_955 INTEGER\n",
      "BB_956 INTEGER\n",
      "BB_958 INTEGER\n",
      "BB_959 INTEGER\n",
      "BB_960 INTEGER\n",
      "BB_961 INTEGER\n",
      "BB_962 INTEGER\n",
      "BB_963 INTEGER\n",
      "BB_964 INTEGER\n",
      "BB_966 INTEGER\n",
      "BB_967 INTEGER\n",
      "BB_968 INTEGER\n",
      "BB_969 INTEGER\n",
      "BB_970 INTEGER\n",
      "BB_971 INTEGER\n",
      "BB_972 INTEGER\n",
      "BB_973 INTEGER\n",
      "BB_974 INTEGER\n",
      "BB_975 INTEGER\n",
      "BB_978 INTEGER\n",
      "BB_1233 INTEGER\n",
      "BB_1234 INTEGER\n",
      "BB_1235 INTEGER\n",
      "BB_1236 INTEGER\n",
      "BB_1237 INTEGER\n",
      "BB_1238 INTEGER\n",
      "BB_1242 INTEGER\n",
      "BB_1243 INTEGER\n",
      "BB_1246 INTEGER\n",
      "BB_1253 INTEGER\n",
      "BB_1254 INTEGER\n",
      "BB_1258 INTEGER\n",
      "BB_1259 INTEGER\n",
      "BB_1260 INTEGER\n",
      "BB_1264 INTEGER\n",
      "BB_1265 INTEGER\n",
      "BB_1273 INTEGER\n",
      "BB_1275 INTEGER\n",
      "BB_1276 INTEGER\n",
      "BB_1277 INTEGER\n",
      "BB_1278 INTEGER\n",
      "BB_1279 INTEGER\n",
      "BB_1280 INTEGER\n",
      "BB_1281 INTEGER\n",
      "BB_1282 INTEGER\n",
      "BB_1283 INTEGER\n",
      "BB_1284 INTEGER\n",
      "BB_1285 INTEGER\n",
      "BB_1286 INTEGER\n",
      "BB_1287 INTEGER\n",
      "BB_1288 INTEGER\n",
      "BB_1289 INTEGER\n",
      "BB_1290 INTEGER\n",
      "BB_1291 INTEGER\n",
      "BB_1292 INTEGER\n",
      "BB_1293 INTEGER\n",
      "BB_1294 INTEGER\n",
      "BB_1295 INTEGER\n",
      "BB_1296 INTEGER\n",
      "BB_1297 INTEGER\n",
      "BB_1298 INTEGER\n",
      "BB_1308 INTEGER\n",
      "BB_1309 INTEGER\n",
      "BB_1310 INTEGER\n",
      "BB_1374 INTEGER\n",
      "BB_1415 INTEGER\n",
      "BB_1439 INTEGER\n",
      "BB_1441 INTEGER\n",
      "BB_1443 INTEGER\n",
      "BB_1486 INTEGER\n",
      "BB_1487 INTEGER\n",
      "BB_1489 INTEGER\n",
      "BB_1490 INTEGER\n",
      "BB_1491 INTEGER\n",
      "BB_1494 INTEGER\n",
      "BB_1495 INTEGER\n",
      "BB_1497 INTEGER\n",
      "BB_1499 INTEGER\n",
      "BB_1500 INTEGER\n",
      "BB_1501 INTEGER\n",
      "BB_1502 INTEGER\n",
      "BB_1503 INTEGER\n",
      "BB_1504 INTEGER\n",
      "BB_1505 INTEGER\n",
      "BB_1506 INTEGER\n",
      "BB_1507 INTEGER\n",
      "BB_1508 INTEGER\n",
      "BB_1510 INTEGER\n",
      "BB_1511 INTEGER\n",
      "BB_1512 INTEGER\n",
      "BB_1513 INTEGER\n",
      "BB_1514 INTEGER\n",
      "BB_1515 INTEGER\n",
      "BB_1516 INTEGER\n",
      "BB_1517 INTEGER\n",
      "BB_1518 INTEGER\n",
      "BB_1519 INTEGER\n",
      "BB_1521 INTEGER\n",
      "BB_1524 INTEGER\n",
      "BB_1526 INTEGER\n",
      "BB_1527 INTEGER\n",
      "BB_1530 INTEGER\n",
      "BB_1531 INTEGER\n",
      "BB_1532 INTEGER\n",
      "BB_1533 INTEGER\n",
      "BB_1534 INTEGER\n",
      "BB_1535 INTEGER\n",
      "BB_1536 INTEGER\n",
      "BB_1537 INTEGER\n",
      "BB_1539 INTEGER\n",
      "BB_1540 INTEGER\n",
      "BB_1541 INTEGER\n",
      "BB_1542 INTEGER\n",
      "BB_1543 INTEGER\n",
      "BB_1544 INTEGER\n",
      "BB_1545 INTEGER\n",
      "BB_1546 INTEGER\n",
      "BB_1547 INTEGER\n",
      "BB_1548 INTEGER\n",
      "BB_1549 INTEGER\n",
      "BB_1550 INTEGER\n",
      "BB_1551 INTEGER\n",
      "BB_1552 INTEGER\n",
      "BB_1553 INTEGER\n",
      "BB_1554 INTEGER\n",
      "BB_1555 INTEGER\n",
      "BB_1556 INTEGER\n",
      "BB_1557 INTEGER\n",
      "BB_1558 INTEGER\n",
      "BB_1561 INTEGER\n",
      "BB_1562 INTEGER\n",
      "BB_1563 INTEGER\n",
      "BB_1564 INTEGER\n",
      "BB_1572 INTEGER\n",
      "BB_1573 INTEGER\n",
      "BB_1574 INTEGER\n",
      "BB_1576 INTEGER\n",
      "BB_1577 INTEGER\n",
      "BB_1581 INTEGER\n",
      "BB_1601 INTEGER\n"
     ]
    }
   ],
   "source": [
    "# Using the inspector to print the column names within the sqlite table and its types\n",
    "columns = inspector2.get_columns('samples')\n",
    "for column in columns:\n",
    "    print(column[\"name\"], column[\"type\"])"
   ]
  },
  {
   "cell_type": "code",
   "execution_count": 20,
   "metadata": {},
   "outputs": [
    {
     "name": "stdout",
     "output_type": "stream",
     "text": [
      "otu_id INTEGER\n",
      "lowest_taxonomic_unit_found TEXT\n"
     ]
    }
   ],
   "source": [
    "# Using the inspector to print the column names within the sqlite table and its types\n",
    "columns = inspector2.get_columns('otu')\n",
    "for column in columns:\n",
    "    print(column[\"name\"], column[\"type\"])"
   ]
  },
  {
   "cell_type": "code",
   "execution_count": null,
   "metadata": {},
   "outputs": [],
   "source": []
  }
 ],
 "metadata": {
  "kernelspec": {
   "display_name": "Python 3",
   "language": "python",
   "name": "python3"
  },
  "language_info": {
   "codemirror_mode": {
    "name": "ipython",
    "version": 3
   },
   "file_extension": ".py",
   "mimetype": "text/x-python",
   "name": "python",
   "nbconvert_exporter": "python",
   "pygments_lexer": "ipython3",
   "version": "3.6.5"
  }
 },
 "nbformat": 4,
 "nbformat_minor": 2
}
